{
 "cells": [
  {
   "cell_type": "markdown",
   "metadata": {},
   "source": [
    "Grammar of Graphics\n",
    "\n",
    "| Grammar component | Requirement | Description |\n",
    "|-------------------|-------------|-------------|\n",
    "|data |Required |A dataset is required for a ggplot, preferably already cleaned, wrangled, and ready to go. |\n",
    "|variable mapping (aka aesthetic) |Required |Aesthetic mappings describe how variables in the data are mapped to visual properties (aesthetics) of geoms |\n",
    "|marker object (aka geom) |Required |The geometric shapes that will represent your data (squares, circles, diamonds, bars, lines, etc...) |\n",
    "|scale |Optional |Scales control how data values are translated to visual properties like axes labels and limits, legends and keys. See labs() and lims() |\n",
    "|statistical transform |Optional |    |\n",
    "|coordinate system |Optional |    |\n",
    "|faceting |Optional |    |\n",
    "\n",
    "More about the grammar: [ggplot2: Elegant Graphics for Data Analysis. 10 Mastering the grammar](https://ggplot2-book.org/mastery.html) by Hadley Wickham.\n"
   ]
  },
  {
   "cell_type": "markdown",
   "metadata": {},
   "source": [
    "Usefull material:\n",
    "\n",
    "- Directory of plots:\n",
    "[Book: Fundamentals of Data Visualization. 5 Directory of visualizations](https://serialmentor.com/dataviz/directory-of-visualizations.html) by Claus O. Wilke\n",
    "  \n",
    "- Very usefull tutorial:[ggplot2: Mastering the basics](http://www.rebeccabarter.com/blog/2017-11-17-ggplot2_tutorial) by Rebecca Barter\n",
    "  \n",
    "- Extended tutorial with code: [A ggplot2 Tutorial for Beautiful Plotting in R.](https://cedricscherer.netlify.com/2019/08/05/a-ggplot2-tutorial-for-beautiful-plotting-in-r/) by Cédric Scherer\n"
   ]
  },
  {
   "cell_type": "markdown",
   "metadata": {},
   "source": [
    "Effective Design Principles\n",
    "\n",
    "|Principle |Definition |Examples |\n",
    "|----------|-----------|---------|\n",
    "|Proportional Ink |The amount of ink used to indicate a value should be proportional to the value itself. |Truncating the y-axis on a bar chart to exaggerate the difference between bars violates the principle of proportional ink |\n",
    "|Data: ink ratio |Remove distracting visual elements to focus attention on the data |Lighten line weights, remove backgrounds, never use 3D or special effects, remove unnecessary/redundant labels, etc |\n",
    "|Labels & legends |Use axes labels and titles to highlight/ communicate data |Never leave your data column names as axes labels! Generally good to add a title |\n",
    "|Overplotting |With large datasets, points overlap, resulting in large clouds of data. |To fix overplotting, could plot just a sample subset of the data, use transparency/alpha, and use smaller points |\n",
    "|Visualization choice |Must be informed by the data you have, the research question being asked and the audience that cares. | |\n",
    "|Colour & Accessibility | | |\n",
    "|Statistical transform | | |\n",
    "\n",
    "### BEST RESOURCE: SEE THE LECTURE 3 :\n",
    "https://github.ubc.ca/MDS-2019-20/DSCI_531_viz-1_students/blob/master/lectures2019/2019-10-21%20-%20Lecture%203%20-%20Choosing%20an%20appropriate%20visualization.pdf"
   ]
  }
 ],
 "metadata": {
  "kernelspec": {
   "display_name": "R",
   "language": "R",
   "name": "ir"
  },
  "language_info": {
   "codemirror_mode": "r",
   "file_extension": ".r",
   "mimetype": "text/x-r-source",
   "name": "R",
   "pygments_lexer": "r",
   "version": "3.6.1"
  }
 },
 "nbformat": 4,
 "nbformat_minor": 2
}
