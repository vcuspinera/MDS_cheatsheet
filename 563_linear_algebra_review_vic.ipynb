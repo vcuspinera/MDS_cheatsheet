{
 "cells": [
  {
   "cell_type": "markdown",
   "metadata": {},
   "source": [
    "# 553 Unsupervised learning\n",
    "_Review by Vic_"
   ]
  },
  {
   "cell_type": "markdown",
   "metadata": {},
   "source": [
    "This review is based in the material from [3Blue1Brown series, season 1](https://www.youtube.com/playlist?list=PLZHQObOWTQDPD3MizzM2xVFitgF8hE_ab), which is related with Linear Algebra."
   ]
  },
  {
   "cell_type": "code",
   "execution_count": 1,
   "metadata": {},
   "outputs": [],
   "source": [
    "import numpy as np\n",
    "import pandas as pd\n",
    "# import altair as alt\n",
    "# %matplotlib inline\n",
    "# import matplotlib\n",
    "# from scipy.optimize import minimize\n",
    "# from sklearn.linear_model import LinearRegression, LogisticRegression"
   ]
  },
  {
   "cell_type": "code",
   "execution_count": 3,
   "metadata": {},
   "outputs": [],
   "source": [
    "import altair as alt\n",
    "\n",
    "# Need to enable this to allow work with larger datasets (https://altair-viz.github.io/user_guide/faq.html)\n",
    "#alt.data_transformers.enable('json')\n",
    "\n",
    "#add this because I use jupyter notebook\n",
    "#alt.renderers.enable('notebook')"
   ]
  },
  {
   "cell_type": "markdown",
   "metadata": {},
   "source": [
    "Topics:\n",
    "1. [Vectors, what even are they? | Essence of linear algebra, chapter 1](https://youtu.be/fNk_zzaMoSs)\n",
    "2. [Linear combinations, span, and basis vectors | Essence of linear algebra, chapter 2](https://youtu.be/k7RM-ot2NWY)\n",
    "3. [Linear transformations and matrices | Essence of linear algebra, chapter 3](https://youtu.be/kYB8IZa5AuE)\n",
    "4. [Matrix multiplication as composition | Essence of linear algebra, chapter 4](https://youtu.be/XkY2DOUCWMU)\n",
    "5. [Three-dimensional linear transformations | Essence of linear algebra, chapter 5](https://youtu.be/rHLEWRxRGiMhttps://youtu.be/rHLEWRxRGiM)\n",
    "6. [The determinant | Essence of linear algebra, chapter 6](https://youtu.be/Ip3X9LOh2dk)\n",
    "7. Inverse matrices, column space and null space | Essence of linear algebra, chapter 7\n",
    "8. Nonsquare matrices as transformations between dimensions | Essence of linear algebra, chapter 8\n",
    "9. Dot products and duality | Essence of linear algebra, chapter 9\n",
    "10. Cross products | Essence of linear algebra, Chapter 10\n",
    "11. Cross products in the light of linear transformations | Essence of linear algebra chapter 11\n",
    "12. Cramer's rule, explained geometrically | Essence of linear algebra, chapter 12\n",
    "13. Change of basis | Essence of linear algebra, chapter 13\n",
    "14. Eigenvectors and eigenvalues | Essence of linear algebra, chapter 14\n",
    "15. Abstract vector spaces | Essence of linear algebra, chapter 15\n"
   ]
  },
  {
   "cell_type": "markdown",
   "metadata": {},
   "source": [
    "Review:"
   ]
  },
  {
   "cell_type": "markdown",
   "metadata": {},
   "source": [
    "Vectors can be seen in different ways in function of the area: Physics, Math and Computer Science. For Linear Algebra, the best way to see them are as in Physics, whic would be represented as $\\begin{bmatrix}x \\\\ y\\end{bmatrix}$ This is different from a point that would be represented as $(a,b)$"
   ]
  },
  {
   "cell_type": "markdown",
   "metadata": {},
   "source": [
    "Unit vectors, that together are calles as **basis vectors** of the *xy* coordinate system $(\\hat{i},\\hat{j})$.  \n",
    "So a vector can be expressed using the basis vectors as follows: $\\begin{bmatrix}3 \\\\ 2\\end{bmatrix}=(3)\\hat{i}+(2)\\hat{j}$  \n",
    "- Every time we describe vector numerically, it dependes on an implicit choice of what vector basis are you choosing\n",
    "- The **span** of $\\vec{v}$ and $\\vec{w}$ is the set of all their **linear combinations**.\n",
    "- a vector is **linearly dependent** when it can be express as a linear combination of the others since it is in the span of the others.  For example, in 3 dimension space (3-d), $\\vec{u}$ is linearlu dependent if: $\\vec{u}=a\\vec{v}+b\\vec{w}$  \n",
    "- if each vector it adds a linear dimension to the span, they are **linerly independent** because any of those can't be expressed as a linear combination of the others: $\\vec{u} \\neq a\\vec{v}+b\\vec{w}$\n",
    "\n",
    "Technical definition of basis:  \n",
    "<br><center> _The **basis** of a vector space is a set of **linearly independent** vectors that **span** the full space._ </center></br>"
   ]
  },
  {
   "cell_type": "code",
   "execution_count": 193,
   "metadata": {},
   "outputs": [
    {
     "data": {
      "text/html": [
       "\n",
       "<div id=\"altair-viz-b70992bb40454b9fa2811fdc12253f71\"></div>\n",
       "<script type=\"text/javascript\">\n",
       "  (function(spec, embedOpt){\n",
       "    const outputDiv = document.getElementById(\"altair-viz-b70992bb40454b9fa2811fdc12253f71\");\n",
       "    const paths = {\n",
       "      \"vega\": \"https://cdn.jsdelivr.net/npm//vega@5?noext\",\n",
       "      \"vega-lib\": \"https://cdn.jsdelivr.net/npm//vega-lib?noext\",\n",
       "      \"vega-lite\": \"https://cdn.jsdelivr.net/npm//vega-lite@4.0.2?noext\",\n",
       "      \"vega-embed\": \"https://cdn.jsdelivr.net/npm//vega-embed@6?noext\",\n",
       "    };\n",
       "\n",
       "    function loadScript(lib) {\n",
       "      return new Promise(function(resolve, reject) {\n",
       "        var s = document.createElement('script');\n",
       "        s.src = paths[lib];\n",
       "        s.async = true;\n",
       "        s.onload = () => resolve(paths[lib]);\n",
       "        s.onerror = () => reject(`Error loading script: ${paths[lib]}`);\n",
       "        document.getElementsByTagName(\"head\")[0].appendChild(s);\n",
       "      });\n",
       "    }\n",
       "\n",
       "    function showError(err) {\n",
       "      outputDiv.innerHTML = `<div class=\"error\" style=\"color:red;\">${err}</div>`;\n",
       "      throw err;\n",
       "    }\n",
       "\n",
       "    function displayChart(vegaEmbed) {\n",
       "      vegaEmbed(outputDiv, spec, embedOpt)\n",
       "        .catch(err => showError(`Javascript Error: ${err.message}<br>This usually means there's a typo in your chart specification. See the javascript console for the full traceback.`));\n",
       "    }\n",
       "\n",
       "    if(typeof define === \"function\" && define.amd) {\n",
       "      requirejs.config({paths});\n",
       "      require([\"vega-embed\"], displayChart, err => showError(`Error loading script: ${err.message}`));\n",
       "    } else if (typeof vegaEmbed === \"function\") {\n",
       "      displayChart(vegaEmbed);\n",
       "    } else {\n",
       "      loadScript(\"vega\")\n",
       "        .then(() => loadScript(\"vega-lite\"))\n",
       "        .then(() => loadScript(\"vega-embed\"))\n",
       "        .catch(showError)\n",
       "        .then(() => displayChart(vegaEmbed));\n",
       "    }\n",
       "  })({\"config\": {\"view\": {\"continuousWidth\": 400, \"continuousHeight\": 300}}, \"layer\": [{\"data\": {\"name\": \"data-7a45588e02d96aac80f0088abc5dbe78\"}, \"mark\": \"line\", \"encoding\": {\"x\": {\"type\": \"quantitative\", \"field\": \"X\", \"scale\": {\"domain\": [-4, 4]}}, \"y\": {\"type\": \"quantitative\", \"field\": \"Y\", \"scale\": {\"domain\": [-4, 4]}}}}, {\"data\": {\"name\": \"data-50fe30e2053cd8795c50349b01b4f124\"}, \"mark\": \"line\", \"encoding\": {\"x\": {\"type\": \"quantitative\", \"field\": \"X\", \"scale\": {\"domain\": [-4, 4]}}, \"y\": {\"type\": \"quantitative\", \"field\": \"Y\", \"scale\": {\"domain\": [-4, 4]}}}}, {\"data\": {\"name\": \"data-a110d5d6340f948567e17f2b5fd395e0\"}, \"mark\": {\"type\": \"point\", \"fill\": \"royalblue\", \"shape\": \"triangle\", \"size\": 100}, \"encoding\": {\"x\": {\"type\": \"quantitative\", \"field\": \"X\"}, \"y\": {\"type\": \"quantitative\", \"field\": \"Y\"}}}], \"$schema\": \"https://vega.github.io/schema/vega-lite/v4.0.2.json\", \"datasets\": {\"data-7a45588e02d96aac80f0088abc5dbe78\": [{\"X\": 0, \"Y\": 0}, {\"X\": 3, \"Y\": -1}], \"data-50fe30e2053cd8795c50349b01b4f124\": [{\"X\": 0, \"Y\": 0}, {\"X\": 2, \"Y\": 3}], \"data-a110d5d6340f948567e17f2b5fd395e0\": [{\"X\": 3, \"Y\": -1}, {\"X\": 2, \"Y\": 3}]}}, {\"mode\": \"vega-lite\"});\n",
       "</script>"
      ],
      "text/plain": [
       "alt.LayerChart(...)"
      ]
     },
     "execution_count": 193,
     "metadata": {},
     "output_type": "execute_result"
    }
   ],
   "source": [
    "# plot a vector in altair\n",
    "# points\n",
    "origin = [0,0]\n",
    "vector1 = [3,-1]\n",
    "vector2 = [2,3]\n",
    "\n",
    "v = pd.DataFrame([origin, vector1, vector2], columns=['X','Y'])\n",
    "\n",
    "# plots\n",
    "lines = {}\n",
    "for i in v.loc[v.index!=0].index:\n",
    "    lines[i] = alt.Chart(v.loc[(v.index==0)|(v.index==i)]).mark_line().encode(\n",
    "        alt.X('X', scale=alt.Scale(domain=(-4,4))), \n",
    "        alt.Y('Y', scale=alt.Scale(domain=(-4,4))))\n",
    "\n",
    "heads = alt.Chart(v.loc[v.index!=0]).mark_point(\n",
    "    shape='triangle', size=100, fill='royalblue').encode(x='X',y='Y')\n",
    "\n",
    "lines[1] + lines[2] + heads"
   ]
  },
  {
   "cell_type": "code",
   "execution_count": 204,
   "metadata": {},
   "outputs": [
    {
     "name": "stdout",
     "output_type": "stream",
     "text": [
      "   X  Y                                                dir\n",
      "0  0  0                                               None\n",
      "1  3 -1  https://avatars0.githubusercontent.com/u/53915...\n",
      "2  2  3  https://scontent-sea1-1.xx.fbcdn.net/v/t1.0-9/...\n"
     ]
    },
    {
     "data": {
      "text/html": [
       "\n",
       "<div id=\"altair-viz-c199e10ec83448688411fb6992138ec0\"></div>\n",
       "<script type=\"text/javascript\">\n",
       "  (function(spec, embedOpt){\n",
       "    const outputDiv = document.getElementById(\"altair-viz-c199e10ec83448688411fb6992138ec0\");\n",
       "    const paths = {\n",
       "      \"vega\": \"https://cdn.jsdelivr.net/npm//vega@5?noext\",\n",
       "      \"vega-lib\": \"https://cdn.jsdelivr.net/npm//vega-lib?noext\",\n",
       "      \"vega-lite\": \"https://cdn.jsdelivr.net/npm//vega-lite@4.0.2?noext\",\n",
       "      \"vega-embed\": \"https://cdn.jsdelivr.net/npm//vega-embed@6?noext\",\n",
       "    };\n",
       "\n",
       "    function loadScript(lib) {\n",
       "      return new Promise(function(resolve, reject) {\n",
       "        var s = document.createElement('script');\n",
       "        s.src = paths[lib];\n",
       "        s.async = true;\n",
       "        s.onload = () => resolve(paths[lib]);\n",
       "        s.onerror = () => reject(`Error loading script: ${paths[lib]}`);\n",
       "        document.getElementsByTagName(\"head\")[0].appendChild(s);\n",
       "      });\n",
       "    }\n",
       "\n",
       "    function showError(err) {\n",
       "      outputDiv.innerHTML = `<div class=\"error\" style=\"color:red;\">${err}</div>`;\n",
       "      throw err;\n",
       "    }\n",
       "\n",
       "    function displayChart(vegaEmbed) {\n",
       "      vegaEmbed(outputDiv, spec, embedOpt)\n",
       "        .catch(err => showError(`Javascript Error: ${err.message}<br>This usually means there's a typo in your chart specification. See the javascript console for the full traceback.`));\n",
       "    }\n",
       "\n",
       "    if(typeof define === \"function\" && define.amd) {\n",
       "      requirejs.config({paths});\n",
       "      require([\"vega-embed\"], displayChart, err => showError(`Error loading script: ${err.message}`));\n",
       "    } else if (typeof vegaEmbed === \"function\") {\n",
       "      displayChart(vegaEmbed);\n",
       "    } else {\n",
       "      loadScript(\"vega\")\n",
       "        .then(() => loadScript(\"vega-lite\"))\n",
       "        .then(() => loadScript(\"vega-embed\"))\n",
       "        .catch(showError)\n",
       "        .then(() => displayChart(vegaEmbed));\n",
       "    }\n",
       "  })({\"config\": {\"view\": {\"continuousWidth\": 400, \"continuousHeight\": 300}}, \"layer\": [{\"data\": {\"name\": \"data-7a45588e02d96aac80f0088abc5dbe78\"}, \"mark\": \"line\", \"encoding\": {\"x\": {\"type\": \"quantitative\", \"field\": \"X\", \"scale\": {\"domain\": [-4, 4]}}, \"y\": {\"type\": \"quantitative\", \"field\": \"Y\", \"scale\": {\"domain\": [-4, 4]}}}}, {\"data\": {\"name\": \"data-50fe30e2053cd8795c50349b01b4f124\"}, \"mark\": \"line\", \"encoding\": {\"x\": {\"type\": \"quantitative\", \"field\": \"X\", \"scale\": {\"domain\": [-4, 4]}}, \"y\": {\"type\": \"quantitative\", \"field\": \"Y\", \"scale\": {\"domain\": [-4, 4]}}}}, {\"data\": {\"name\": \"data-c4c0836247ccd44d00257e20a53e25d8\"}, \"mark\": {\"type\": \"image\", \"height\": 50, \"width\": 50}, \"encoding\": {\"url\": {\"type\": \"nominal\", \"field\": \"dir\"}, \"x\": {\"type\": \"quantitative\", \"field\": \"X\"}, \"y\": {\"type\": \"quantitative\", \"field\": \"Y\"}}}], \"$schema\": \"https://vega.github.io/schema/vega-lite/v4.0.2.json\", \"datasets\": {\"data-7a45588e02d96aac80f0088abc5dbe78\": [{\"X\": 0, \"Y\": 0}, {\"X\": 3, \"Y\": -1}], \"data-50fe30e2053cd8795c50349b01b4f124\": [{\"X\": 0, \"Y\": 0}, {\"X\": 2, \"Y\": 3}], \"data-c4c0836247ccd44d00257e20a53e25d8\": [{\"X\": 3, \"Y\": -1, \"dir\": \"https://avatars0.githubusercontent.com/u/53915521?s=460&u=5bb25a8258ee14ae90fef415f81c27d9387dc5e1&v=4\"}, {\"X\": 2, \"Y\": 3, \"dir\": \"https://scontent-sea1-1.xx.fbcdn.net/v/t1.0-9/1176157_10151580312882000_700402689_n.jpg?_nc_cat=108&_nc_sid=210fed&_nc_ohc=YKrq0J7PEFcAX8b12gj&_nc_ht=scontent-sea1-1.xx&oh=9d20b3a351a6e0b344025cc85a938a0d&oe=5E92F7C0\"}]}}, {\"mode\": \"vega-lite\"});\n",
       "</script>"
      ],
      "text/plain": [
       "alt.LayerChart(...)"
      ]
     },
     "execution_count": 204,
     "metadata": {},
     "output_type": "execute_result"
    }
   ],
   "source": [
    "# plot a vector in altair\n",
    "# points\n",
    "origin = [0,0]\n",
    "vector1 = [3,-1]\n",
    "vector2 = [2,3]\n",
    "\n",
    "v = pd.DataFrame([origin, vector1, vector2], columns=['X','Y'])\n",
    "\n",
    "# plots\n",
    "lines = {}\n",
    "for i in v.loc[v.index!=0].index:\n",
    "    lines[i] = alt.Chart(v.loc[(v.index==0)|(v.index==i)]).mark_line().encode(\n",
    "        alt.X('X', scale=alt.Scale(domain=(-4,4))), \n",
    "        alt.Y('Y', scale=alt.Scale(domain=(-4,4))))\n",
    "\n",
    "v2 = v\n",
    "v2[\"dir\"] = [None,\n",
    "             \"https://avatars0.githubusercontent.com/u/53915521?s=460&u=5bb25a8258ee14ae90fef415f81c27d9387dc5e1&v=4\",\n",
    "             \"https://scontent-sea1-1.xx.fbcdn.net/v/t1.0-9/1176157_10151580312882000_700402689_n.jpg?_nc_cat=108&_nc_sid=210fed&_nc_ohc=YKrq0J7PEFcAX8b12gj&_nc_ht=scontent-sea1-1.xx&oh=9d20b3a351a6e0b344025cc85a938a0d&oe=5E92F7C0\"]\n",
    "\n",
    "print(v2)\n",
    "\n",
    "heads2 = alt.Chart(v.loc[v.index!=0]).mark_image(\n",
    "    width=50,\n",
    "    height=50\n",
    ").encode(x='X',y='Y', url='dir')\n",
    "\n",
    "lines[1] + lines[2] + heads2\n"
   ]
  },
  {
   "cell_type": "markdown",
   "metadata": {},
   "source": [
    "linear transformation == function  \n",
    "**linear transformation** is a function used to pass a vector input, and returns a vector output.\n",
    "The word 'transformation' suggest that you think using movement.\n",
    " \n",
    "Lines transformation visually speaking:\n",
    "1. all lines must remains lines, w/o getting curve\n",
    "2. the origin must remain in place\n",
    "\n",
    "...this means that grid lines remain parallel and evenly spaced.  \n",
    "\n",
    "To remember, the **basis vectors** of the *xy* coordinate system is based in $(\\hat{i},\\hat{j})$ where $\\hat{i}=\\begin{bmatrix} 1\\\\0\\end{bmatrix}$ and $\\hat{j}=\\begin{bmatrix} 0\\\\1\\end{bmatrix}$\n",
    "which can be seen as $\\begin{bmatrix} 1& 0\\\\0 & 1\\end{bmatrix}$ \n",
    "\n",
    "...in a new space, where the coordinates are $(\\text{transformed }\\hat{i}, \\text{transformed }\\hat{j})$ we can use the transformed vectors to identify how the vectors mpves in this new space...\n",
    "\n",
    "...to do so, it is useful to put the *transformed basis vector* as a **matrix**:\n",
    "$\\begin{bmatrix}\\text{transformed }\\hat{i}_{x} & \\text{transformed }\\hat{j}_{x}\\\\ \\text{transformed }\\hat{i}_{y} & \\text{transformed }\\hat{j}_{y}\\end{bmatrix}$  \n",
    "\n",
    "and example is the \"shear\", where $\\hat{i}$ remains the same but $\\hat{j}=\\begin{bmatrix}1\\\\1\\end{bmatrix}$, so we got anew basis: $\\begin{bmatrix}1 & 1\\\\0 & 1\\end{bmatrix}$\n",
    "\n",
    "...to se how another vector $\\begin{bmatrix} 2 \\\\ 3\\end{bmatrix}$ change froms from the $xy$ coordinate system to this new space we should multiply them $$\\begin{bmatrix}1 & 1\\\\0 & 1\\end{bmatrix} \\begin{bmatrix} 2 \\\\ 3\\end{bmatrix} = \\begin{bmatrix} 5 \\\\ 3\\end{bmatrix}$$"
   ]
  },
  {
   "cell_type": "markdown",
   "metadata": {},
   "source": [
    "**matrix vector multiplication**\n",
    "$$\\begin{bmatrix}a & b\\\\c & d\\end{bmatrix} \\begin{bmatrix} x \\\\ y\\end{bmatrix} = x \\begin{bmatrix}a\\\\c\\end{bmatrix} + y \\begin{bmatrix}b\\\\d\\end{bmatrix} = \\begin{bmatrix} ax+by \\\\ cx+dy\\end{bmatrix}$$\n",
    "\n",
    "**Composition** of two transformations (*rotation* and *shear*).\n",
    "$$\\begin{bmatrix}1 & 1\\\\0 & 1\\end{bmatrix} \\Bigg(\\begin{bmatrix}0 & -1\\\\1 & 0\\end{bmatrix} \\begin{bmatrix} x \\\\ y\\end{bmatrix} \\Bigg) = \n",
    "\\begin{bmatrix}1 & -1\\\\1 & 0\\end{bmatrix} \\begin{bmatrix} x \\\\ y\\end{bmatrix}$$\n",
    "<br><center>Shear - - - - - - Rotation - - - - - - - - Composition</center><br>\n",
    "...the *composition* captures the effect of the *rotation* and *shear*, and it can be seen as the product of the other two matrices. This can see as $f(g(x))$, and the operations of matrices should run from right to left (good news for the jewish, bad news for the rest of us!)\n",
    "\n",
    "Does it matter the order w put the matrices befor multiplying them?\n",
    "\\> yes!\n",
    "$M_1M_2 \\neq M_2M_1$\n",
    "\n",
    "**Associativity**\n",
    "$(AB)C = A(BC)$"
   ]
  },
  {
   "cell_type": "markdown",
   "metadata": {},
   "source": [
    "All the previous operations (multiplication of matrices, composition, association) with 2-d matrices, also can be applied to **3-d matrices**."
   ]
  },
  {
   "cell_type": "markdown",
   "metadata": {},
   "source": [
    "_\"The purpose of computation is insight, not numbers.\"_\n",
    "\n",
    "Until now, we have seen that linear transformations:\n",
    "- stretches space out, or\n",
    "- squishes space in.\n",
    "\n",
    "The **determinant**, is a scaling factor, and it is the factor by a linear transformation changes any area.\n",
    "\n",
    "$det\\Bigg(\\begin{bmatrix}3 & 2\\\\0 & 2\\end{bmatrix}\\Bigg)=6$\n",
    "\n",
    "The important thing here is to understand the intuition:\n",
    "- The determinant of a transformation would be 3 if that transformation increases the area of a region by a factor of 3.\n",
    "- The determinant of a transformation would be 0.5 if it squishes down the area by a factor of 1/2\n",
    "- The determinant of a given 2-d transoframion is 0 if it squishes all the space into a line or even into a single point, since then, any area of the region would become 0.\n",
    "\n",
    "The **determinant** can have negative values, but what does it means?\n",
    "Usually $\\hat{i}$ is in the right of the $\\hat{j}$ vector, but if the new space flipped the coordinates, this means tha the orientation of the space was inverted, and we will find that the $\\hat{j}$ vector is at the right of $\\hat{i}$ vector. The previous explains the negative sign, and the number 'a' of the negative determinant still means the if the area increases/squishes by a factor of that number ('a').\n",
    "\n",
    "The determinant in **3-d** tells you the increase/decrease in terms of **volume**.\n",
    "\n",
    "How to calculate it:\n",
    "$det\\Bigg(\\begin{bmatrix}a & b\\\\c & d\\end{bmatrix}\\Bigg)=ad-bc$\n",
    "\n",
    "The genaral formula for a determinant for 3-d space:\n",
    "$$det\\Bigg(\\begin{bmatrix}a & b &c\\\\d & e & f \\\\ g & h & i\\end{bmatrix}\\Bigg)=\n",
    "a~det\\Bigg(\\begin{bmatrix}e & f\\\\h & i\\end{bmatrix}\\Bigg)-\n",
    "b~det\\Bigg(\\begin{bmatrix}d & f\\\\g & i\\end{bmatrix}\\Bigg)+\n",
    "c~det\\Bigg(\\begin{bmatrix}d & e\\\\g & h\\end{bmatrix}\\Bigg)$$"
   ]
  },
  {
   "cell_type": "code",
   "execution_count": null,
   "metadata": {},
   "outputs": [],
   "source": []
  }
 ],
 "metadata": {
  "kernelspec": {
   "display_name": "Python 3",
   "language": "python",
   "name": "python3"
  },
  "language_info": {
   "codemirror_mode": {
    "name": "ipython",
    "version": 3
   },
   "file_extension": ".py",
   "mimetype": "text/x-python",
   "name": "python",
   "nbconvert_exporter": "python",
   "pygments_lexer": "ipython3",
   "version": "3.7.7"
  }
 },
 "nbformat": 4,
 "nbformat_minor": 4
}
