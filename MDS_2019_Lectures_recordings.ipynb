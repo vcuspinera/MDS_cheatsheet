{
 "cells": [
  {
   "cell_type": "markdown",
   "metadata": {},
   "source": [
    "# MDS 2019 Lecture Recordings"
   ]
  },
  {
   "cell_type": "markdown",
   "metadata": {},
   "source": [
    "##### Courses at the MDS UBC 2019-2020"
   ]
  },
  {
   "cell_type": "markdown",
   "metadata": {},
   "source": [
    "|VIDEO (LINK) |PROFFESOR|BLOCK    |WEEK_PROGRAM|WEEK_BLOCK|COURSE|LECTURE NO.|COMMENTS|\n",
    "|:------------|:--------|:-------:|:----------:|:--------:|:----:|:---------:|:-------|\n",
    "|[20190909-090006-008.mp4](http://www.cs.ubc.ca/dmp110/MDS-2019W/20190909-090006-008.mp4)|RODOLFO|1|1|1|521|1||\n",
    "|[20190909-103007-008.mp4](http://www.cs.ubc.ca/dmp110/MDS-2019W/20190909-103007-008.mp4)|VICCENZO|1|1|1|551|1||\n",
    "|[20190910-093000-008.mp4](http://www.cs.ubc.ca/dmp110/MDS-2019W/20190910-093000-008.mp4)|DAVID|1|1|1|542|1||\n",
    "|[20190910-110000-008.mp4](http://www.cs.ubc.ca/dmp110/MDS-2019W/20190910-110000-008.mp4)|MIKE|1|1|1|511|1||\n",
    "|[20190911-085959-008.mp4](http://www.cs.ubc.ca/dmp110/MDS-2019W/20190911-085959-008.mp4)|RODOLFO|1|1|1|521|2||\n",
    "|[20190911-102959-008.mp4](http://www.cs.ubc.ca/dmp110/MDS-2019W/20190911-102959-008.mp4)|VICCENZO|1|1|1|551|2||\n",
    "|[20190912-092959-008.mp4](http://www.cs.ubc.ca/dmp110/MDS-2019W/20190912-092959-008.mp4)|DAVID|1|1|1|542|2||\n",
    "|[20190912-105958-008.mp4](http://www.cs.ubc.ca/dmp110/MDS-2019W/20190912-105958-008.mp4)|MIKE|1|1|1|511|2||\n",
    "|[20190916-085955-008.mp4](http://www.cs.ubc.ca/dmp110/MDS-2019W/20190916-085955-008.mp4)|RODOLFO|1|2|2|521|3||\n",
    "|[20190916-102955-008.mp4](http://www.cs.ubc.ca/dmp110/MDS-2019W/20190916-102955-008.mp4)|VICCENZO|1|2|2|551|3||\n",
    "|[20190917-092954-007.mp4](http://www.cs.ubc.ca/dmp110/MDS-2019W/20190917-092954-007.mp4)|DAVID|1|2|2|542|3||\n",
    "|[20190917-105954-008.mp4](http://www.cs.ubc.ca/dmp110/MDS-2019W/20190917-105954-008.mp4)|MIKE|1|2|2|511|3||\n",
    "|[20190918-085954-006.mp4](http://www.cs.ubc.ca/dmp110/MDS-2019W/20190918-085954-006.mp4)|RODOLFO|1|2|2|521|4||\n",
    "|[20190918-102954-008.mp4](http://www.cs.ubc.ca/dmp110/MDS-2019W/20190918-102954-008.mp4)|VICCENZO|1|2|2|551|4||\n",
    "|[20190919-093053-008.mp4](http://www.cs.ubc.ca/dmp110/MDS-2019W/20190919-093053-008.mp4)|DAVID|1|2|2|542|4||\n",
    "|[20190919-105953-008.mp4](http://www.cs.ubc.ca/dmp110/MDS-2019W/20190919-105953-008.mp4)|MIKE|1|2|2|511|4||\n",
    "|[20190923-085950-008.mp4](http://www.cs.ubc.ca/dmp110/MDS-2019W/20190923-085950-008.mp4)|RODOLFO|1|3|3|521|5||\n",
    "|[20190923-102950-008.mp4](http://www.cs.ubc.ca/dmp110/MDS-2019W/20190923-102950-008.mp4)|VICCENZO|1|3|3|551|5||\n",
    "|[20190924-092949-008.mp4](http://www.cs.ubc.ca/dmp110/MDS-2019W/20190924-092949-008.mp4)|DAVID|1|3|3|542|5||\n",
    "|[20190924-105949-007.mp4](http://www.cs.ubc.ca/dmp110/MDS-2019W/20190924-105949-007.mp4)|TIFFANI|1|3|3|511|5||\n",
    "|[20190925-085948-008.mp4](http://www.cs.ubc.ca/dmp110/MDS-2019W/20190925-085948-008.mp4)|RODOLFO|1|3|3|521|6||\n",
    "|[20190925-102949-008.mp4](http://www.cs.ubc.ca/dmp110/MDS-2019W/20190925-102949-008.mp4)|VICCENZO|1|3|3|551|6||\n",
    "|[20190926-092948-008.mp4](http://www.cs.ubc.ca/dmp110/MDS-2019W/20190926-092948-008.mp4)|DAVID|1|3|3|542|6||\n",
    "|[20190926-105948-007.mp4](http://www.cs.ubc.ca/dmp110/MDS-2019W/20190926-105948-007.mp4)|TIFFANI|1|3|3|511|6||\n",
    "|[20190930-085944-008.mp4](http://www.cs.ubc.ca/dmp110/MDS-2019W/20190930-085944-008.mp4)|RODOLFO|1|4|4|521|7||\n",
    "|[20190930-102944-008.mp4](http://www.cs.ubc.ca/dmp110/MDS-2019W/20190930-102944-008.mp4)|VICCENZO|1|4|4|551|7||\n",
    "|[20191001-092943-008.mp4](http://www.cs.ubc.ca/dmp110/MDS-2019W/20191001-092943-008.mp4)|DAVID|1|4|4|542|7||\n",
    "|[20191001-105944-007.mp4](http://www.cs.ubc.ca/dmp110/MDS-2019W/20191001-105944-007.mp4)|TIFFANI|1|4|4|511|7||\n",
    "|[20191002-085943-008.mp4](http://www.cs.ubc.ca/dmp110/MDS-2019W/20191002-085943-008.mp4)|RODOLFO|1|4|4|521|8||\n",
    "|[20191002-102943-008.mp4](http://www.cs.ubc.ca/dmp110/MDS-2019W/20191002-102943-008.mp4)|VICCENZO|1|4|4|551|8||\n",
    "|[20191003-092942-008.mp4](http://www.cs.ubc.ca/dmp110/MDS-2019W/20191003-092942-008.mp4)|DAVID|1|4|4|542|8||\n",
    "|[20191003-110142-008.mp4](http://www.cs.ubc.ca/dmp110/MDS-2019W/20191003-110142-008.mp4)|TIFFANI|1|4|4|511|8||\n",
    "|[20191015-092932-008.mp4](http://www.cs.ubc.ca/dmp110/MDS-2019W/20191015-092932-008.mp4)|MIKE|2|5|1|512|1||\n",
    "|[20191015-105932-008.mp4](http://www.cs.ubc.ca/dmp110/MDS-2019W/20191015-105932-008.mp4)|TIFFANI|2|5|1|523|1||\n",
    "|[20191016-085932-008.mp4](http://www.cs.ubc.ca/dmp110/MDS-2019W/20191016-085932-008.mp4)|FIRAS|2|5|1|531|1||\n",
    "|[20191016-103032-008.mp4](http://www.cs.ubc.ca/dmp110/MDS-2019W/20191016-103032-008.mp4)|TIFFANI|2|5|1|552|1||\n",
    "|[20191017-092931-008.mp4](http://www.cs.ubc.ca/dmp110/MDS-2019W/20191017-092931-008.mp4)|MIKE|2|5|1|512|2||\n",
    "|[20191017-105931-008.mp4](http://www.cs.ubc.ca/dmp110/MDS-2019W/20191017-105931-008.mp4)|TIFFANI|2|5|1|523|2||\n",
    "|NR|FIRAS|2|5|1|531|2||\n",
    "|NR|TIFFANI|2|5|1|552|2||\n",
    "|[20191021-090128-008.mp4](http://www.cs.ubc.ca/dmp110/MDS-2019W/20191021-090128-008.mp4)|FIRAS|2|6|2|531|3||\n",
    "|[20191021-103027-008.mp4](http://www.cs.ubc.ca/dmp110/MDS-2019W/20191021-103027-008.mp4)|TIFFANI|2|6|2|552|3||\n",
    "|[20191022-092927-008.mp4](http://www.cs.ubc.ca/dmp110/MDS-2019W/20191022-092927-008.mp4)|MIKE|2|6|2|512|3||\n",
    "|[20191022-105927-008.mp4](http://www.cs.ubc.ca/dmp110/MDS-2019W/20191022-105927-008.mp4)|TIFFANI|2|6|2|523|3||\n",
    "|[20191023-085926-008.mp4](http://www.cs.ubc.ca/dmp110/MDS-2019W/20191023-085926-008.mp4)|FIRAS|2|6|2|531|4||\n",
    "|[20191023-103026-008.mp4](http://www.cs.ubc.ca/dmp110/MDS-2019W/20191023-103026-008.mp4)|TIFFANI|2|6|2|552|4||\n",
    "|[20191024-092926-008.mp4](http://www.cs.ubc.ca/dmp110/MDS-2019W/20191024-092926-008.mp4)|MIKE|2|6|2|512|4||\n",
    "|NR|TIFFANI|2|6|2|523|4||\n",
    "|[20191028-090022-008.mp4](http://www.cs.ubc.ca/dmp110/MDS-2019W/20191028-090022-008.mp4)|FIRAS|2|7|3|531|5||\n",
    "|[20191028-103122-008.mp4](http://www.cs.ubc.ca/dmp110/MDS-2019W/20191028-103122-008.mp4)|TIFFANI|2|7|3|552|5||\n",
    "|[20191029-092922-008.mp4](http://www.cs.ubc.ca/dmp110/MDS-2019W/20191029-092922-008.mp4)|MIKE|2|7|3|512|5||\n",
    "|[20191029-105922-008.mp4](http://www.cs.ubc.ca/dmp110/MDS-2019W/20191029-105922-008.mp4)|TOM|2|7|3|523|5||\n",
    "|[20191030-090021-008.mp4](http://www.cs.ubc.ca/dmp110/MDS-2019W/20191030-090021-008.mp4)|FIRAS|2|7|3|531|6||\n",
    "|[20191030-102921-008.mp4](http://www.cs.ubc.ca/dmp110/MDS-2019W/20191030-102921-008.mp4)|TIFFANI|2|7|3|552|6||\n",
    "|[20191031-092920-008.mp4](http://www.cs.ubc.ca/dmp110/MDS-2019W/20191031-092920-008.mp4)|MIKE|2|7|3|512|6||\n",
    "|[20191031-105921-008.mp4](http://www.cs.ubc.ca/dmp110/MDS-2019W/20191031-105921-008.mp4)|TOM|2|7|3|523|6||\n",
    "|[20191104-085917-008.mp4](http://www.cs.ubc.ca/dmp110/MDS-2019W/20191104-085917-008.mp4)|FIRAS|2|8|4|531|7||\n",
    "|[20191104-103117-008.mp4](http://www.cs.ubc.ca/dmp110/MDS-2019W/20191104-103117-008.mp4)|TIFFANI|2|8|4|552|7||\n",
    "|[20191105-092916-008.mp4](http://www.cs.ubc.ca/dmp110/MDS-2019W/20191105-092916-008.mp4)|MIKE|2|8|4|512|7||\n",
    "|[20191105-105916-008.mp4](http://www.cs.ubc.ca/dmp110/MDS-2019W/20191105-105916-008.mp4)|TOM|2|8|4|523|7||\n",
    "|[20191106-085916-008.mp4](http://www.cs.ubc.ca/dmp110/MDS-2019W/20191106-085916-008.mp4)|FIRAS|2|8|4|531|8||\n",
    "|[20191106-103016-008.mp4](http://www.cs.ubc.ca/dmp110/MDS-2019W/20191106-103016-008.mp4)|TIFFANI|2|8|4|552|8||\n",
    "|[20191107-092915-008.mp4](http://www.cs.ubc.ca/dmp110/MDS-2019W/20191107-092915-008.mp4)|MIKE|2|8|4|512|8||\n",
    "|[20191107-105915-008.mp4](http://www.cs.ubc.ca/dmp110/MDS-2019W/20191107-105915-008.mp4)|TOM|2|8|4|523|8||\n",
    "|[20191118-085906-008.mp4](http://www.cs.ubc.ca/dmp110/MDS-2019W/20191118-085906-008.mp4)|GABY|3|9|1|561|1||\n",
    "|[20191118-102906-008.mp4](http://www.cs.ubc.ca/dmp110/MDS-2019W/20191118-102906-008.mp4)|TOM|3|9|1|571|1||\n",
    "|[20191119-092906-008.mp4](http://www.cs.ubc.ca/dmp110/MDS-2019W/20191119-092906-008.mp4)|FIRAS|3|9|1|532|1||\n",
    "|[20191119-105906-008.mp4](http://www.cs.ubc.ca/dmp110/MDS-2019W/20191119-105906-008.mp4)|RODOLFO|3|9|1|513|1||\n",
    "|[20191120-085905-008.mp4](http://www.cs.ubc.ca/dmp110/MDS-2019W/20191120-085905-008.mp4)|GABY|3|9|1|561|2||\n",
    "|[20191120-103005-008.mp4](http://www.cs.ubc.ca/dmp110/MDS-2019W/20191120-103005-008.mp4)|TOM|3|9|1|571|2||\n",
    "|[20191121-092904-008.mp4](http://www.cs.ubc.ca/dmp110/MDS-2019W/20191121-092904-008.mp4)|FIRAS|3|9|1|532|2||\n",
    "|[20191121-105905-008.mp4](http://www.cs.ubc.ca/dmp110/MDS-2019W/20191121-105905-008.mp4)|RODOLFO|3|9|1|513|2||![image.png](attachment:image.png)"
   ]
  },
  {
   "cell_type": "markdown",
   "metadata": {},
   "source": [
    "**Original source: http://www.cs.ubc.ca/dmp110/MDS-2019W/**"
   ]
  }
 ],
 "metadata": {
  "kernelspec": {
   "display_name": "Python 3",
   "language": "python",
   "name": "python3"
  },
  "language_info": {
   "codemirror_mode": {
    "name": "ipython",
    "version": 3
   },
   "file_extension": ".py",
   "mimetype": "text/x-python",
   "name": "python",
   "nbconvert_exporter": "python",
   "pygments_lexer": "ipython3",
   "version": "3.7.4"
  }
 },
 "nbformat": 4,
 "nbformat_minor": 2
}
